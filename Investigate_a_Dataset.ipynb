{
 "cells": [
  {
   "cell_type": "markdown",
   "metadata": {},
   "source": [
    "> **Tip**: Welcome to the Investigate a Dataset project! You will find tips in quoted sections like this to help organize your approach to your investigation. Before submitting your project, it will be a good idea to go back through your report and remove these sections to make the presentation of your work as tidy as possible. First things first, you might want to double-click this Markdown cell and change the title so that it reflects your dataset and investigation.\n",
    "\n",
    "# Project: Investigate a Dataset (FBI Gun Data)\n",
    "\n",
    "## Table of Contents\n",
    "<ul>\n",
    "<li><a href=\"#intro\">Introduction</a></li>\n",
    "<li><a href=\"#wrangling\">Data Wrangling</a></li>\n",
    "<li><a href=\"#eda\">Exploratory Data Analysis</a></li>\n",
    "<li><a href=\"#conclusions\">Conclusions</a></li>\n",
    "</ul>"
   ]
  },
  {
   "cell_type": "markdown",
   "metadata": {},
   "source": [
    "<a id='intro'></a>\n",
    "## Introduction\n",
    "\n",
    "> **Tip**: In this section of the report, provide a brief introduction to the dataset you've selected for analysis. At the end of this section, describe the questions that you plan on exploring over the course of the report. Try to build your report around the analysis of at least one dependent variable and three independent variables. If you're not sure what questions to ask, then make sure you familiarize yourself with the dataset, its variables and the dataset context for ideas of what to explore.\n",
    "\n",
    "> If you haven't yet selected and downloaded your data, make sure you do that first before coming back here. In order to work with the data in this workspace, you also need to upload it to the workspace. To do so, click on the jupyter icon in the upper left to be taken back to the workspace directory. There should be an 'Upload' button in the upper right that will let you add your data file(s) to the workspace. You can then click on the .ipynb file name to come back here."
   ]
  },
  {
   "cell_type": "code",
   "execution_count": 302,
   "metadata": {},
   "outputs": [],
   "source": [
    "# Use this cell to set up import statements for all of the packages that you\n",
    "#   plan to use.\n",
    "\n",
    "import pandas as pd\n",
    "import numpy as np\n",
    "import matplotlib as plt\n",
    "from matplotlib import pyplot as plt\n",
    "\n",
    "df = pd.read_excel(\"./gun_data.xlsx\")\n",
    "df.to_csv(\"./gun_data.csv\", sep=\",\")\n",
    "df_gun = pd.read_csv('gun_data.csv')\n",
    "df_census = pd.read_csv('U.S. Census Data.csv')\n",
    "# Remember to include a 'magic word' so that your visualizations are plotted\n",
    "#   inline with the notebook. See this page for more:\n",
    "#   http://ipython.readthedocs.io/en/stable/interactive/magics.html\n"
   ]
  },
  {
   "cell_type": "markdown",
   "metadata": {},
   "source": [
    "<a id='wrangling'></a>\n",
    "## Data Wrangling\n",
    "\n",
    "> **Tip**: In this section of the report, you will load in the data, check for cleanliness, and then trim and clean your dataset for analysis. Make sure that you document your steps carefully and justify your cleaning decisions.\n",
    "\n",
    "### General Properties"
   ]
  },
  {
   "cell_type": "code",
   "execution_count": 303,
   "metadata": {},
   "outputs": [
    {
     "data": {
      "text/html": [
       "<div>\n",
       "<style scoped>\n",
       "    .dataframe tbody tr th:only-of-type {\n",
       "        vertical-align: middle;\n",
       "    }\n",
       "\n",
       "    .dataframe tbody tr th {\n",
       "        vertical-align: top;\n",
       "    }\n",
       "\n",
       "    .dataframe thead th {\n",
       "        text-align: right;\n",
       "    }\n",
       "</style>\n",
       "<table border=\"1\" class=\"dataframe\">\n",
       "  <thead>\n",
       "    <tr style=\"text-align: right;\">\n",
       "      <th></th>\n",
       "      <th>Unnamed: 0</th>\n",
       "      <th>month</th>\n",
       "      <th>state</th>\n",
       "      <th>permit</th>\n",
       "      <th>permit_recheck</th>\n",
       "      <th>handgun</th>\n",
       "      <th>long_gun</th>\n",
       "      <th>other</th>\n",
       "      <th>multiple</th>\n",
       "      <th>admin</th>\n",
       "      <th>...</th>\n",
       "      <th>returned_other</th>\n",
       "      <th>rentals_handgun</th>\n",
       "      <th>rentals_long_gun</th>\n",
       "      <th>private_sale_handgun</th>\n",
       "      <th>private_sale_long_gun</th>\n",
       "      <th>private_sale_other</th>\n",
       "      <th>return_to_seller_handgun</th>\n",
       "      <th>return_to_seller_long_gun</th>\n",
       "      <th>return_to_seller_other</th>\n",
       "      <th>totals</th>\n",
       "    </tr>\n",
       "  </thead>\n",
       "  <tbody>\n",
       "    <tr>\n",
       "      <th>0</th>\n",
       "      <td>0</td>\n",
       "      <td>2017-09</td>\n",
       "      <td>Alabama</td>\n",
       "      <td>16717.0</td>\n",
       "      <td>0.0</td>\n",
       "      <td>5734.0</td>\n",
       "      <td>6320.0</td>\n",
       "      <td>221.0</td>\n",
       "      <td>317</td>\n",
       "      <td>0.0</td>\n",
       "      <td>...</td>\n",
       "      <td>0.0</td>\n",
       "      <td>0.0</td>\n",
       "      <td>0.0</td>\n",
       "      <td>9.0</td>\n",
       "      <td>16.0</td>\n",
       "      <td>3.0</td>\n",
       "      <td>0.0</td>\n",
       "      <td>0.0</td>\n",
       "      <td>3.0</td>\n",
       "      <td>32019</td>\n",
       "    </tr>\n",
       "    <tr>\n",
       "      <th>1</th>\n",
       "      <td>1</td>\n",
       "      <td>2017-09</td>\n",
       "      <td>Alaska</td>\n",
       "      <td>209.0</td>\n",
       "      <td>2.0</td>\n",
       "      <td>2320.0</td>\n",
       "      <td>2930.0</td>\n",
       "      <td>219.0</td>\n",
       "      <td>160</td>\n",
       "      <td>0.0</td>\n",
       "      <td>...</td>\n",
       "      <td>0.0</td>\n",
       "      <td>0.0</td>\n",
       "      <td>0.0</td>\n",
       "      <td>17.0</td>\n",
       "      <td>24.0</td>\n",
       "      <td>1.0</td>\n",
       "      <td>0.0</td>\n",
       "      <td>0.0</td>\n",
       "      <td>0.0</td>\n",
       "      <td>6303</td>\n",
       "    </tr>\n",
       "    <tr>\n",
       "      <th>2</th>\n",
       "      <td>2</td>\n",
       "      <td>2017-09</td>\n",
       "      <td>Arizona</td>\n",
       "      <td>5069.0</td>\n",
       "      <td>382.0</td>\n",
       "      <td>11063.0</td>\n",
       "      <td>7946.0</td>\n",
       "      <td>920.0</td>\n",
       "      <td>631</td>\n",
       "      <td>0.0</td>\n",
       "      <td>...</td>\n",
       "      <td>0.0</td>\n",
       "      <td>0.0</td>\n",
       "      <td>0.0</td>\n",
       "      <td>38.0</td>\n",
       "      <td>12.0</td>\n",
       "      <td>2.0</td>\n",
       "      <td>0.0</td>\n",
       "      <td>0.0</td>\n",
       "      <td>0.0</td>\n",
       "      <td>28394</td>\n",
       "    </tr>\n",
       "    <tr>\n",
       "      <th>3</th>\n",
       "      <td>3</td>\n",
       "      <td>2017-09</td>\n",
       "      <td>Arkansas</td>\n",
       "      <td>2935.0</td>\n",
       "      <td>632.0</td>\n",
       "      <td>4347.0</td>\n",
       "      <td>6063.0</td>\n",
       "      <td>165.0</td>\n",
       "      <td>366</td>\n",
       "      <td>51.0</td>\n",
       "      <td>...</td>\n",
       "      <td>0.0</td>\n",
       "      <td>0.0</td>\n",
       "      <td>0.0</td>\n",
       "      <td>13.0</td>\n",
       "      <td>23.0</td>\n",
       "      <td>0.0</td>\n",
       "      <td>0.0</td>\n",
       "      <td>2.0</td>\n",
       "      <td>1.0</td>\n",
       "      <td>17747</td>\n",
       "    </tr>\n",
       "    <tr>\n",
       "      <th>4</th>\n",
       "      <td>4</td>\n",
       "      <td>2017-09</td>\n",
       "      <td>California</td>\n",
       "      <td>57839.0</td>\n",
       "      <td>0.0</td>\n",
       "      <td>37165.0</td>\n",
       "      <td>24581.0</td>\n",
       "      <td>2984.0</td>\n",
       "      <td>0</td>\n",
       "      <td>0.0</td>\n",
       "      <td>...</td>\n",
       "      <td>0.0</td>\n",
       "      <td>0.0</td>\n",
       "      <td>0.0</td>\n",
       "      <td>0.0</td>\n",
       "      <td>0.0</td>\n",
       "      <td>0.0</td>\n",
       "      <td>0.0</td>\n",
       "      <td>0.0</td>\n",
       "      <td>0.0</td>\n",
       "      <td>123506</td>\n",
       "    </tr>\n",
       "  </tbody>\n",
       "</table>\n",
       "<p>5 rows × 28 columns</p>\n",
       "</div>"
      ],
      "text/plain": [
       "   Unnamed: 0    month       state   permit  permit_recheck  handgun  \\\n",
       "0           0  2017-09     Alabama  16717.0             0.0   5734.0   \n",
       "1           1  2017-09      Alaska    209.0             2.0   2320.0   \n",
       "2           2  2017-09     Arizona   5069.0           382.0  11063.0   \n",
       "3           3  2017-09    Arkansas   2935.0           632.0   4347.0   \n",
       "4           4  2017-09  California  57839.0             0.0  37165.0   \n",
       "\n",
       "   long_gun   other  multiple  admin   ...    returned_other  rentals_handgun  \\\n",
       "0    6320.0   221.0       317    0.0   ...               0.0              0.0   \n",
       "1    2930.0   219.0       160    0.0   ...               0.0              0.0   \n",
       "2    7946.0   920.0       631    0.0   ...               0.0              0.0   \n",
       "3    6063.0   165.0       366   51.0   ...               0.0              0.0   \n",
       "4   24581.0  2984.0         0    0.0   ...               0.0              0.0   \n",
       "\n",
       "   rentals_long_gun  private_sale_handgun  private_sale_long_gun  \\\n",
       "0               0.0                   9.0                   16.0   \n",
       "1               0.0                  17.0                   24.0   \n",
       "2               0.0                  38.0                   12.0   \n",
       "3               0.0                  13.0                   23.0   \n",
       "4               0.0                   0.0                    0.0   \n",
       "\n",
       "   private_sale_other  return_to_seller_handgun  return_to_seller_long_gun  \\\n",
       "0                 3.0                       0.0                        0.0   \n",
       "1                 1.0                       0.0                        0.0   \n",
       "2                 2.0                       0.0                        0.0   \n",
       "3                 0.0                       0.0                        2.0   \n",
       "4                 0.0                       0.0                        0.0   \n",
       "\n",
       "   return_to_seller_other  totals  \n",
       "0                     3.0   32019  \n",
       "1                     0.0    6303  \n",
       "2                     0.0   28394  \n",
       "3                     1.0   17747  \n",
       "4                     0.0  123506  \n",
       "\n",
       "[5 rows x 28 columns]"
      ]
     },
     "execution_count": 303,
     "metadata": {},
     "output_type": "execute_result"
    }
   ],
   "source": [
    "# Load your data and print out a few lines. Perform operations to inspect data\n",
    "#   types and look for instances of missing or possibly errant data.\n",
    "df_gun.head()"
   ]
  },
  {
   "cell_type": "code",
   "execution_count": 304,
   "metadata": {},
   "outputs": [
    {
     "name": "stdout",
     "output_type": "stream",
     "text": [
      "<class 'pandas.core.frame.DataFrame'>\n",
      "RangeIndex: 12485 entries, 0 to 12484\n",
      "Data columns (total 28 columns):\n",
      "Unnamed: 0                   12485 non-null int64\n",
      "month                        12485 non-null object\n",
      "state                        12485 non-null object\n",
      "permit                       12461 non-null float64\n",
      "permit_recheck               1100 non-null float64\n",
      "handgun                      12465 non-null float64\n",
      "long_gun                     12466 non-null float64\n",
      "other                        5500 non-null float64\n",
      "multiple                     12485 non-null int64\n",
      "admin                        12462 non-null float64\n",
      "prepawn_handgun              10542 non-null float64\n",
      "prepawn_long_gun             10540 non-null float64\n",
      "prepawn_other                5115 non-null float64\n",
      "redemption_handgun           10545 non-null float64\n",
      "redemption_long_gun          10544 non-null float64\n",
      "redemption_other             5115 non-null float64\n",
      "returned_handgun             2200 non-null float64\n",
      "returned_long_gun            2145 non-null float64\n",
      "returned_other               1815 non-null float64\n",
      "rentals_handgun              990 non-null float64\n",
      "rentals_long_gun             825 non-null float64\n",
      "private_sale_handgun         2750 non-null float64\n",
      "private_sale_long_gun        2750 non-null float64\n",
      "private_sale_other           2750 non-null float64\n",
      "return_to_seller_handgun     2475 non-null float64\n",
      "return_to_seller_long_gun    2750 non-null float64\n",
      "return_to_seller_other       2255 non-null float64\n",
      "totals                       12485 non-null int64\n",
      "dtypes: float64(23), int64(3), object(2)\n",
      "memory usage: 2.7+ MB\n"
     ]
    }
   ],
   "source": [
    "df_gun.info()"
   ]
  },
  {
   "cell_type": "markdown",
   "metadata": {},
   "source": [
    "> **Tip**: You should _not_ perform too many operations in each cell. Create cells freely to explore your data. One option that you can take with this project is to do a lot of explorations in an initial notebook. These don't have to be organized, but make sure you use enough comments to understand the purpose of each code cell. Then, after you're done with your analysis, create a duplicate notebook where you will trim the excess and organize your steps so that you have a flowing, cohesive report.\n",
    "\n",
    "> **Tip**: Make sure that you keep your reader informed on the steps that you are taking in your investigation. Follow every code cell, or every set of related code cells, with a markdown cell to describe to the reader what was found in the preceding cell(s). Try to make it so that the reader can then understand what they will be seeing in the following cell(s).\n",
    "\n",
    "### Data Cleaning (Replace this with more specific notes!)"
   ]
  },
  {
   "cell_type": "code",
   "execution_count": 305,
   "metadata": {},
   "outputs": [
    {
     "data": {
      "text/plain": [
       "0"
      ]
     },
     "execution_count": 305,
     "metadata": {},
     "output_type": "execute_result"
    }
   ],
   "source": [
    "# After discussing the structure of the data and any problems that need to be\n",
    "#   cleaned, perform those cleaning steps in the second part of this section.\n",
    "\n",
    "# Check whether duplicated rows exist\n",
    "sum(df_gun.duplicated())"
   ]
  },
  {
   "cell_type": "code",
   "execution_count": 306,
   "metadata": {},
   "outputs": [
    {
     "data": {
      "text/plain": [
       "Unnamed: 0                   0\n",
       "month                        0\n",
       "state                        0\n",
       "permit                       0\n",
       "permit_recheck               0\n",
       "handgun                      0\n",
       "long_gun                     0\n",
       "other                        0\n",
       "multiple                     0\n",
       "admin                        0\n",
       "prepawn_handgun              0\n",
       "prepawn_long_gun             0\n",
       "prepawn_other                0\n",
       "redemption_handgun           0\n",
       "redemption_long_gun          0\n",
       "redemption_other             0\n",
       "returned_handgun             0\n",
       "returned_long_gun            0\n",
       "returned_other               0\n",
       "rentals_handgun              0\n",
       "rentals_long_gun             0\n",
       "private_sale_handgun         0\n",
       "private_sale_long_gun        0\n",
       "private_sale_other           0\n",
       "return_to_seller_handgun     0\n",
       "return_to_seller_long_gun    0\n",
       "return_to_seller_other       0\n",
       "totals                       0\n",
       "dtype: int64"
      ]
     },
     "execution_count": 306,
     "metadata": {},
     "output_type": "execute_result"
    }
   ],
   "source": [
    "# Check Null columns and then Fill Nan values with 0.\n",
    "# And add df_gun DataFrame name with '_01'\n",
    "df_gun_01 = df_gun.fillna(0)\n",
    "df_gun_01.isnull().sum()"
   ]
  },
  {
   "cell_type": "code",
   "execution_count": 307,
   "metadata": {},
   "outputs": [
    {
     "data": {
      "text/plain": [
       "['month',\n",
       " 'state',\n",
       " 'permit',\n",
       " 'permit_recheck',\n",
       " 'handgun',\n",
       " 'long_gun',\n",
       " 'other',\n",
       " 'multiple',\n",
       " 'admin',\n",
       " 'prepawn_handgun',\n",
       " 'prepawn_long_gun',\n",
       " 'prepawn_other',\n",
       " 'redemption_handgun',\n",
       " 'redemption_long_gun',\n",
       " 'redemption_other',\n",
       " 'returned_handgun',\n",
       " 'returned_long_gun',\n",
       " 'returned_other',\n",
       " 'rentals_handgun',\n",
       " 'rentals_long_gun',\n",
       " 'private_sale_handgun',\n",
       " 'private_sale_long_gun',\n",
       " 'private_sale_other',\n",
       " 'return_to_seller_handgun',\n",
       " 'return_to_seller_long_gun',\n",
       " 'return_to_seller_other',\n",
       " 'totals']"
      ]
     },
     "execution_count": 307,
     "metadata": {},
     "output_type": "execute_result"
    }
   ],
   "source": [
    "# remove Unname columns which has no necesarry\n",
    "del df_gun_01['Unnamed: 0']\n",
    "list(df_gun_01)"
   ]
  },
  {
   "cell_type": "code",
   "execution_count": 308,
   "metadata": {},
   "outputs": [
    {
     "name": "stdout",
     "output_type": "stream",
     "text": [
      "<class 'pandas.core.frame.DataFrame'>\n",
      "RangeIndex: 12485 entries, 0 to 12484\n",
      "Data columns (total 27 columns):\n",
      "month                        12485 non-null object\n",
      "state                        12485 non-null object\n",
      "permit                       12485 non-null int64\n",
      "permit_recheck               12485 non-null int64\n",
      "handgun                      12485 non-null int64\n",
      "long_gun                     12485 non-null int64\n",
      "other                        12485 non-null int64\n",
      "multiple                     12485 non-null int64\n",
      "admin                        12485 non-null int64\n",
      "prepawn_handgun              12485 non-null int64\n",
      "prepawn_long_gun             12485 non-null int64\n",
      "prepawn_other                12485 non-null int64\n",
      "redemption_handgun           12485 non-null int64\n",
      "redemption_long_gun          12485 non-null int64\n",
      "redemption_other             12485 non-null int64\n",
      "returned_handgun             12485 non-null int64\n",
      "returned_long_gun            12485 non-null int64\n",
      "returned_other               12485 non-null int64\n",
      "rentals_handgun              12485 non-null int64\n",
      "rentals_long_gun             12485 non-null int64\n",
      "private_sale_handgun         12485 non-null int64\n",
      "private_sale_long_gun        12485 non-null int64\n",
      "private_sale_other           12485 non-null int64\n",
      "return_to_seller_handgun     12485 non-null int64\n",
      "return_to_seller_long_gun    12485 non-null int64\n",
      "return_to_seller_other       12485 non-null int64\n",
      "totals                       12485 non-null int64\n",
      "dtypes: int64(25), object(2)\n",
      "memory usage: 2.6+ MB\n"
     ]
    }
   ],
   "source": [
    "# Turn float64 values into int64\n",
    "# i want to figure out how to do this with 'for i' prase instead of typing all of them....\n",
    "df_gun_01 = df_gun_01.astype({'permit' : int\n",
    "                  , 'permit_recheck' : int\n",
    "                  , 'handgun' : int\n",
    "                  , 'long_gun' : int\n",
    "                  , 'other' : int\n",
    "                  , 'admin' : int\n",
    "                  , 'prepawn_handgun' : int\n",
    "                  , 'prepawn_long_gun' : int\n",
    "                  , 'prepawn_other' : int\n",
    "                  , 'redemption_handgun' : int\n",
    "                  , 'redemption_long_gun' : int\n",
    "                  , 'redemption_other' : int\n",
    "                  , 'returned_handgun' : int\n",
    "                  , 'returned_long_gun' : int\n",
    "                  , 'returned_other' : int\n",
    "                  , 'rentals_handgun' : int\n",
    "                  , 'rentals_long_gun' : int\n",
    "                  , 'private_sale_handgun' : int\n",
    "                  , 'private_sale_long_gun' : int\n",
    "                  , 'private_sale_other' : int\n",
    "                  , 'return_to_seller_handgun' : int\n",
    "                  , 'return_to_seller_long_gun' : int\n",
    "                  , 'return_to_seller_other' : int\n",
    "                 })\n",
    "df_gun_01.info()"
   ]
  },
  {
   "cell_type": "code",
   "execution_count": 309,
   "metadata": {},
   "outputs": [],
   "source": [
    "# Suming up gun checks in order of Each transaction types\n",
    "df_gun_01['permit_total'] = df_gun_01.loc[:, ['permit', 'permit_recheck', 'handgun', 'long_gun', 'other', 'multiple', 'admin']].sum(axis=1)\n",
    "df_gun_01['prepawn_total'] = df_gun_01.loc[:, ['prepawn_handgun', 'prepawn_long_gun', 'prepawn_other']].sum(axis=1)\n",
    "df_gun_01['redemption_total'] = df_gun_01.loc[:, ['redemption_handgun', 'redemption_long_gun', 'redemption_other']].sum(axis=1)\n",
    "df_gun_01['returned_total'] = df_gun_01.loc[:, ['returned_handgun', 'returned_long_gun', 'returned_other']].sum(axis=1)\n",
    "df_gun_01['rentals_total'] = df_gun_01.loc[:, ['rentals_handgun', 'rentals_long_gun']].sum(axis=1)\n",
    "df_gun_01['private_sale_total'] = df_gun_01.loc[:, ['private_sale_handgun', 'private_sale_long_gun', 'private_sale_other']].sum(axis=1)\n",
    "df_gun_01['return_to_seller_total'] = df_gun_01.loc[:, ['return_to_seller_handgun', 'return_to_seller_long_gun', 'return_to_seller_other']].sum(axis=1)\n",
    "\n",
    "# Suming up gun checks in order of Each firearms types\n",
    "df_gun_01['handgun_total'] = df_gun_01.loc[:, ['handgun', 'prepawn_handgun', 'redemption_handgun', 'returned_handgun', 'rentals_handgun', 'private_sale_handgun', 'return_to_seller_handgun']].sum(axis=1)\n",
    "df_gun_01['long_gun_total'] = df_gun_01.loc[:, ['long_gun', 'prepawn_long_gun', 'redemption_long_gun', 'returned_long_gun', 'rentals_long_gun', 'private_sale_long_gun', 'return_to_seller_long_gun']].sum(axis=1)\n",
    "df_gun_01['other_total'] = df_gun_01.loc[:, ['other', 'prepawn_other', 'redemption_other', 'returned_other', 'private_sale_other', 'return_to_seller_other']].sum(axis=1)\n",
    "\n",
    "df_gun_02 = df_gun_01"
   ]
  },
  {
   "cell_type": "markdown",
   "metadata": {},
   "source": [
    "<a id='eda'></a>\n",
    "## Exploratory Data Analysis\n",
    "\n",
    "> **Tip**: Now that you've trimmed and cleaned your data, you're ready to move on to exploration. Compute statistics and create visualizations with the goal of addressing the research questions that you posed in the Introduction section. It is recommended that you be systematic with your approach. Look at one variable at a time, and then follow it up by looking at relationships between variables.\n",
    "\n",
    "### Research Question 1 (Q1. What census data is most associated with high gun per capita?)\n",
    " - "
   ]
  },
  {
   "cell_type": "markdown",
   "metadata": {},
   "source": [
    "#### 1) Get State which got the highest gun per capita\n",
    " -> 'Kentucky' state was the highest - 8.18 (2016)"
   ]
  },
  {
   "cell_type": "code",
   "execution_count": 310,
   "metadata": {},
   "outputs": [
    {
     "data": {
      "text/html": [
       "<div>\n",
       "<style scoped>\n",
       "    .dataframe tbody tr th:only-of-type {\n",
       "        vertical-align: middle;\n",
       "    }\n",
       "\n",
       "    .dataframe tbody tr th {\n",
       "        vertical-align: top;\n",
       "    }\n",
       "\n",
       "    .dataframe thead th {\n",
       "        text-align: right;\n",
       "    }\n",
       "</style>\n",
       "<table border=\"1\" class=\"dataframe\">\n",
       "  <thead>\n",
       "    <tr style=\"text-align: right;\">\n",
       "      <th>month</th>\n",
       "      <th>total_gun_regi</th>\n",
       "    </tr>\n",
       "    <tr>\n",
       "      <th>state</th>\n",
       "      <th></th>\n",
       "    </tr>\n",
       "  </thead>\n",
       "  <tbody>\n",
       "    <tr>\n",
       "      <th>Alabama</th>\n",
       "      <td>48927</td>\n",
       "    </tr>\n",
       "    <tr>\n",
       "      <th>Alaska</th>\n",
       "      <td>6793</td>\n",
       "    </tr>\n",
       "    <tr>\n",
       "      <th>Arizona</th>\n",
       "      <td>34496</td>\n",
       "    </tr>\n",
       "    <tr>\n",
       "      <th>Arkansas</th>\n",
       "      <td>19378</td>\n",
       "    </tr>\n",
       "    <tr>\n",
       "      <th>California</th>\n",
       "      <td>190218</td>\n",
       "    </tr>\n",
       "  </tbody>\n",
       "</table>\n",
       "</div>"
      ],
      "text/plain": [
       "month       total_gun_regi\n",
       "state                     \n",
       "Alabama              48927\n",
       "Alaska                6793\n",
       "Arizona              34496\n",
       "Arkansas             19378\n",
       "California          190218"
      ]
     },
     "execution_count": 310,
     "metadata": {},
     "output_type": "execute_result"
    }
   ],
   "source": [
    "# In order to merge 'Census_data.csv' with 'gun_data.csv', we need some additional Cleansing\n",
    "\n",
    "# Gun data cleansing...\n",
    "df_gun_02_201607 = df_gun_02[df_gun_02['month'] == '2016-07']\n",
    "df_gun_02_201607 = df_gun_02_201607.pivot_table(values = 'totals', index='state', columns='month', fill_value =0)\n",
    "\n",
    "df_gun_02_201607 = pd.DataFrame(data=df_gun_02_201607)\n",
    "df_gun_02_201607 = df_gun_02_201607.rename(columns={'2016-07' : 'total_gun_regi'})\n",
    "df_gun_02_201607.astype({'total_gun_regi' : int})\n",
    "df_gun_02_201607.head()"
   ]
  },
  {
   "cell_type": "code",
   "execution_count": 311,
   "metadata": {},
   "outputs": [],
   "source": [
    "# Census data cleansing...\n",
    "# In order to get 'gun per capita', i choose 'Population estimates, July 1, 2016,  (V2016)'\n",
    "# Because it is much more recent and accurate than the others.\n",
    "df_census_popul2016 = df_census.iloc[0]\n",
    "df_census_popul2016 = pd.DataFrame(data=df_census_popul2016)\n",
    "df_census_popul2016 = df_census_popul2016.rename(columns={0 : 'population'})\n",
    "df_census_popul2016 = df_census_popul2016.drop(['Fact', 'Fact Note'])\n",
    "df_census_popul2016 = df_census_popul2016.population.str.replace(',', '')\n",
    "df_census_popul2016 = pd.DataFrame(data=df_census_popul2016)\n",
    "df_census_popul2016 = df_census_popul2016.astype({'population' : int })\n"
   ]
  },
  {
   "cell_type": "code",
   "execution_count": 312,
   "metadata": {},
   "outputs": [
    {
     "name": "stdout",
     "output_type": "stream",
     "text": [
      "Kentucky 8.18\n"
     ]
    }
   ],
   "source": [
    "df_merged_201607 = pd.merge(df_census_popul2016, df_gun_02_201607, left_index=True, right_index=True)\n",
    "df_merged_201607['gun per 100 population(2016)'] = round(df_merged_201607['total_gun_regi'] / df_merged_201607['population'], 4) * 100\n",
    "print(df_merged_201607['gun per 100 population(2016)'].idxmax(), df_merged_201607['gun per 100 population(2016)'].max())\n"
   ]
  },
  {
   "cell_type": "markdown",
   "metadata": {},
   "source": [
    " * According to the Table above, 'Alabama' 'Illinois' 'Indiana' 'Kentucky' state recorded at least 1 gun per capita(100 population)\n",
    " \n",
    " * And the 'Kentucky' state got the over 8 guns per capita(100 population)"
   ]
  },
  {
   "cell_type": "markdown",
   "metadata": {},
   "source": [
    "#### 2) Which Census data is most associated with the Kentucky?\n",
    "- I can't handle this data anymore... i need more study to doing data cleansing for statistical analysis...\n",
    "- I need an know-how about replacing all values in every columns\n",
    "- I did 'for in' function to do it, but it was hard to accomplish..."
   ]
  },
  {
   "cell_type": "markdown",
   "metadata": {},
   "source": [
    "### Research Question 2  (Q2. Which states have had the highest growth in gun registrations?)\n",
    " - 'Mariana Islands' got the highest growth in gun regislation on 2016(v2011) in terms of 'CAGR'\n",
    " - But, in terms of the number of gun regislation increase, 'Kentucky' got the highest amount of growth in gun regislation.\n"
   ]
  },
  {
   "cell_type": "code",
   "execution_count": 313,
   "metadata": {},
   "outputs": [
    {
     "name": "stdout",
     "output_type": "stream",
     "text": [
      "year           1998          1999          2000          2001          2002  \\\n",
      "state                                                                         \n",
      "Alabama     18284.0  20563.000000  18492.583333  19182.250000  18417.333333   \n",
      "Alaska       1992.5   3589.416667   3329.916667   3329.916667   3066.083333   \n",
      "Arizona      8726.5  14462.333333  12355.250000  12298.500000  11855.000000   \n",
      "Arkansas    10876.0  15384.666667  14135.666667  13838.500000  12785.333333   \n",
      "California  33722.5  73595.333333  66208.833333  71214.083333  57032.500000   \n",
      "\n",
      "year                2003          2004          2005          2006  \\\n",
      "state                                                                \n",
      "Alabama     18789.916667  19166.416667  19656.083333  20264.666667   \n",
      "Alaska       3088.250000   3375.333333   3709.500000   3919.750000   \n",
      "Arizona     12143.250000  12976.583333  14720.750000  17014.833333   \n",
      "Arkansas    12520.750000  13197.166667  13666.750000  14177.416667   \n",
      "California  43702.583333  45736.916667  50918.500000  51485.000000   \n",
      "\n",
      "year                2007      ...               2010          2011  \\\n",
      "state                         ...                                    \n",
      "Alabama     20446.250000      ...       25717.250000  28008.500000   \n",
      "Alaska       4133.666667      ...        5492.416667   5849.833333   \n",
      "Arizona     16005.916667      ...       17170.833333  20956.416667   \n",
      "Arkansas    14152.000000      ...       15954.000000  17185.666667   \n",
      "California  71328.583333      ...       68033.250000  75475.083333   \n",
      "\n",
      "year                2012           2013           2014           2015  \\\n",
      "state                                                                   \n",
      "Alabama     35946.333333   46990.000000   51775.416667   61459.083333   \n",
      "Alaska       7111.833333    7783.750000    7301.916667    7135.083333   \n",
      "Arizona     28305.250000   30253.000000   25889.333333   27620.166667   \n",
      "Arkansas    20516.083333   23311.333333   19523.500000   21445.500000   \n",
      "California  94383.583333  114024.583333  122884.666667  146756.583333   \n",
      "\n",
      "year                 2016           2017  CAGR  amt_increase  \n",
      "state                                                         \n",
      "Alabama      51412.250000   37418.111111   3.2        1472.0  \n",
      "Alaska        7303.916667    6322.444444   1.2        -789.0  \n",
      "Arizona      34689.916667   31061.444444   2.7        2756.0  \n",
      "Arkansas     22167.833333   17966.000000   1.3       -2550.0  \n",
      "California  198097.250000  129725.333333   5.2       35342.0  \n",
      "\n",
      "[5 rows x 22 columns]\n",
      "In terms of CAGR from 2011 to 2016, Mariana Islands got the highest growth rate\n",
      "Mariana Islands  :  16.1 %\n",
      "In terms of amount of increases from 2011 to 2016, Kentucky got the highest growth\n",
      "Kentucky  :  163995.0\n"
     ]
    }
   ],
   "source": [
    "# Continue to explore the data to address your additional research\n",
    "#   questions. Add more headers as needed if you have more questions to\n",
    "#   investigate.\n",
    "\n",
    "dfg_month_total = dfg_02\n",
    "dfg_month_total['year'] = dfg_month_total['month'].str[0:4]\n",
    "pivot_dfg = dfg_month_total.pivot_table(values = 'totals', index='state', columns='year', aggfunc=\"mean\", fill_value =1)\n",
    "pivot_dfg['CAGR'] = round(pivot_dfg.iloc[:, -2].div(pivot_dfg.iloc[:, -7]).pow(1./(len(pivot_dfg.columns) - 1)).sub(1) * 100, 1)\n",
    "pivot_dfg['amt_increase'] = round(pivot_dfg.iloc[:, -2].sub(pivot_dfg.iloc[:,-7]), 0)\n",
    "\n",
    "print(pivot_dfg.head())\n",
    "print( \"In terms of CAGR from 2011 to 2016, Mariana Islands got the highest growth rate\")\n",
    "print(pivot_dfg['CAGR'].idxmax(), \" : \", round(pivot_dfg['CAGR'].max(), 1), \"%\")\n",
    "print( \"In terms of amount of increases from 2011 to 2016, Kentucky got the highest growth\")\n",
    "print(pivot_dfg['amt_increase'].idxmax(), \" : \", round(pivot_dfg['amt_increase'].max(), 0))\n",
    "\n"
   ]
  },
  {
   "cell_type": "markdown",
   "metadata": {},
   "source": [
    "### Research Question 3(Q3. What is the overall trend of gun purchases?)\n",
    " - According to the NICS notes, These regislation statistics do not represent the number of firearms sold. Based on varying state laws and purchase scenarios, a one-to-one correlation cannot be made between a firearm background check and a firearm sale.\n",
    " - But, If we regard these statistics as a purchases,\n",
    "   - (1) In order of Transaction types, permit and permit_rechecked regislations initiated by official FFL are dominant through all the years\n",
    "   - (2) In order of Firearms types, long_gun was common gun type during the whole year, but the handgun become dominant since june, 2013. And 'Other' was soared temporarily on the june, 2016.  "
   ]
  },
  {
   "cell_type": "code",
   "execution_count": 314,
   "metadata": {},
   "outputs": [
    {
     "data": {
      "image/png": "[encoded data removed]",
      "text/plain": [
       "<matplotlib.figure.Figure at 0x7fa2d50fa710>"
      ]
     },
     "metadata": {
      "needs_background": "light"
     },
     "output_type": "display_data"
    },
    {
     "name": "stdout",
     "output_type": "stream",
     "text": [
      "* Monthly total firearm regislation grows gradually\n"
     ]
    }
   ],
   "source": [
    "# plot 1. monthly total regislation\n",
    "dfg_month = dfg_02.groupby(['month'])['totals'].sum()\n",
    "dfg_month.plot(figsize = (15,6), title = 'Monthly total Gun Regislation in U.S. states')\n",
    "\n",
    "plt.show()\n",
    "print(\"* Monthly total firearm regislation grows gradually\")"
   ]
  },
  {
   "cell_type": "code",
   "execution_count": 315,
   "metadata": {},
   "outputs": [
    {
     "data": {
      "image/png": "[encoded data removed]",
      "text/plain": [
       "<matplotlib.figure.Figure at 0x7fa2d50f3e80>"
      ]
     },
     "metadata": {
      "needs_background": "light"
     },
     "output_type": "display_data"
    },
    {
     "name": "stdout",
     "output_type": "stream",
     "text": [
      "*permit and permit_rechecked regislations initiated by official FFL are dominant through all the years\n"
     ]
    }
   ],
   "source": [
    "# plot3. monthly Sum of Each Transaction Type\n",
    "ax = dfg_02.plot(figsize = (15, 6), x=\"month\", y=\"permit_total\", title = \"plot 3. Monthly Gun Regislation Sum of Each Transaction Type in U.S.\")\n",
    "dfg_02.plot(figsize = (15, 6), x=\"month\", y=\"prepawn_total\", ax=ax)\n",
    "dfg_02.plot(figsize = (15, 6), x=\"month\", y=\"redemption_total\", ax=ax)\n",
    "dfg_02.plot(figsize = (15, 6), x=\"month\", y=\"returned_total\", ax=ax)\n",
    "dfg_02.plot(figsize = (15, 6), x=\"month\", y=\"rentals_total\", ax=ax)\n",
    "dfg_02.plot(figsize = (15, 6), x=\"month\", y=\"private_sale_total\", ax=ax)\n",
    "dfg_02.plot(figsize = (15, 6), x=\"month\", y=\"return_to_seller_total\", ax=ax)\n",
    "plt.show()\n",
    "\n",
    "print(\"*permit and permit_rechecked regislations initiated by official FFL are dominant through all the years\")"
   ]
  },
  {
   "cell_type": "code",
   "execution_count": 316,
   "metadata": {},
   "outputs": [
    {
     "data": {
      "image/png": "[encoded data removed]",
      "text/plain": [
       "<matplotlib.figure.Figure at 0x7fa2cee6f358>"
      ]
     },
     "metadata": {
      "needs_background": "light"
     },
     "output_type": "display_data"
    },
    {
     "name": "stdout",
     "output_type": "stream",
     "text": [
      "* long_gun was common gun type during the whole year, but the handgun become dominant since june, 2013. And \"Other\" was soared temporarily on the june, 2016. \n",
      "* Perimit and Permit_recheck background checks are not included\n"
     ]
    }
   ],
   "source": [
    "# plot4. monthly Sum of Each Gun Type\n",
    "ax = dfg_02.plot(figsize = (15, 6), x=\"month\", y=\"handgun_total\", title = \"plot4. Monthly Gun Regislation Sum of Each Gun Type in U.S.\")\n",
    "dfg_02.plot(figsize = (15, 6), x=\"month\", y=\"long_gun_total\", ax=ax)\n",
    "dfg_02.plot(figsize = (15, 6), x=\"month\", y=\"other_total\", ax=ax)\n",
    "\n",
    "plt.show()\n",
    "print('* long_gun was common gun type during the whole year, but the handgun become dominant since june, 2013. And \"Other\" was soared temporarily on the june, 2016. ')\n",
    "\n",
    "print('* Perimit and Permit_recheck background checks are not included')"
   ]
  },
  {
   "cell_type": "markdown",
   "metadata": {},
   "source": [
    "<a id='conclusions'></a>\n",
    "## Conclusions\n",
    "\n",
    "> **Tip**: Finally, summarize your findings and the results that have been performed. Make sure that you are clear with regards to the limitations of your exploration. If you haven't done any statistical tests, do not imply any statistical conclusions. And make sure you avoid implying causation from correlation!\n",
    "\n",
    "> **Tip**: Once you are satisfied with your work here, check over your report to make sure that it is satisfies all the areas of the rubric (found on the project submission page at the end of the lesson). You should also probably remove all of the \"Tips\" like this one so that the presentation is as polished as possible."
   ]
  },
  {
   "cell_type": "markdown",
   "metadata": {},
   "source": [
    "My conclustion\n",
    "1. \"Kentucky\" got the highest gun per capita in 2016 with 16.1% growth rate\n",
    "2. And \"Kentucky\" was the highest growth in gun regislation from 2011 to 2016 with 8.18 guns per capita(100 population)\n",
    "3. And the overall trend in gun regislation, \"Permitted by the official FFL\" was the dominant from all the year\n",
    "4. And in order of Firearms types, long_gun was common gun type during the whole year, but the handgun become dominant since june, 2013. And 'Other' was soared temporarily on the june, 2016.  "
   ]
  },
  {
   "cell_type": "markdown",
   "metadata": {},
   "source": [
    "\n",
    "\n",
    "## Submitting your Project \n",
    "\n",
    "> Before you submit your project, you need to create a .html or .pdf version of this notebook in the workspace here. To do that, run the code cell below. If it worked correctly, you should get a return code of 0, and you should see the generated .html file in the workspace directory (click on the orange Jupyter icon in the upper left).\n",
    "\n",
    "> Alternatively, you can download this report as .html via the **File** > **Download as** submenu, and then manually upload it into the workspace directory by clicking on the orange Jupyter icon in the upper left, then using the Upload button.\n",
    "\n",
    "> Once you've done this, you can submit your project by clicking on the \"Submit Project\" button in the lower right here. This will create and submit a zip file with this .ipynb doc and the .html or .pdf version you created. Congratulations!"
   ]
  },
  {
   "cell_type": "code",
   "execution_count": 317,
   "metadata": {},
   "outputs": [
    {
     "data": {
      "text/plain": [
       "0"
      ]
     },
     "execution_count": 317,
     "metadata": {},
     "output_type": "execute_result"
    }
   ],
   "source": [
    "from subprocess import call\n",
    "call(['python', '-m', 'nbconvert', 'Investigate_a_Dataset.ipynb'])"
   ]
  },
  {
   "cell_type": "code",
   "execution_count": null,
   "metadata": {},
   "outputs": [],
   "source": []
  }
 ],
 "metadata": {
  "kernelspec": {
   "display_name": "Python 3",
   "language": "python",
   "name": "python3"
  },
  "language_info": {
   "codemirror_mode": {
    "name": "ipython",
    "version": 3
   },
   "file_extension": ".py",
   "mimetype": "text/x-python",
   "name": "python",
   "nbconvert_exporter": "python",
   "pygments_lexer": "ipython3",
   "version": "3.6.3"
  }
 },
 "nbformat": 4,
 "nbformat_minor": 2
}
